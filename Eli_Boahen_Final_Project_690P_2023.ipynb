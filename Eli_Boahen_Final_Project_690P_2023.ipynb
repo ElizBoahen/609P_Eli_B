{
  "nbformat": 4,
  "nbformat_minor": 0,
  "metadata": {
    "colab": {
      "provenance": []
    },
    "kernelspec": {
      "name": "python3",
      "display_name": "Python 3"
    },
    "language_info": {
      "name": "python"
    }
  },
  "cells": [
    {
      "cell_type": "markdown",
      "source": [
        "# Eli Boahen | The sentiments of Students Towards AI\n",
        "== 2023 Fall ===\n",
        "\n",
        "Prof. Omer Yalcin\n",
        "\n",
        "DACSS 690P\n",
        "\n",
        "Final Project"
      ],
      "metadata": {
        "id": "5xd8EaCWGzSH"
      }
    },
    {
      "cell_type": "markdown",
      "source": [
        "# Introduction 📎\n",
        "My focus for my master's dgree has been on Technoliteracy and its effects. This includes societal, wellness, and political impacts on individuals and the systems themselves.\n",
        "\n",
        "Access to technology and technological know-how can not only be a means of power, but also survival. If one does not have an email address, there is a plethora of services they cannot access. Speaking to you directly: imagine having no concept of an email address and yet still being expected to not only have one but also know how to get one, how to choose a good username that won't go to spam, how to have good email etiquette, etc. Email is just one technological system that tethers daily life.\n",
        "\n",
        "> Over the course of 3 years alone, AI has gone from a science fiction concept, to a technological tool students use and teachers screen for. So, what do the students think about AI?\n",
        "\n",
        "Students have used AI tools for drafting papers, answering coding questions, and even language exchange. What is their sentiment towards AI? This project will look at 3 main themes: AI, Technoliteracy, and Sentiment Analysis.\n",
        "\n",
        "Here we go\n",
        "\n"
      ],
      "metadata": {
        "id": "r5JrJ3r2oiIg"
      }
    },
    {
      "cell_type": "markdown",
      "source": [
        "### **My Questions**\n",
        "1.   What are students' sentiments towards AI?\n",
        "2.   What are students' sentiments towards AI in education?"
      ],
      "metadata": {
        "id": "LZfeWnoNx-VF"
      }
    },
    {
      "cell_type": "code",
      "execution_count": null,
      "metadata": {
        "id": "b5m49zrUoGb0"
      },
      "outputs": [],
      "source": [
        "#-- RUN ME FIRST ----#\n",
        "%%shell\n",
        "# Ubuntu no longer distributes chromium-browser outside of snap\n",
        "#\n",
        "# Proposed solution: https://askubuntu.com/questions/1204571/how-to-install-chromium-without-snap\n",
        "\n",
        "# Add debian buster\n",
        "cat > /etc/apt/sources.list.d/debian.list <<'EOF'\n",
        "deb [arch=amd64 signed-by=/usr/share/keyrings/debian-buster.gpg] http://deb.debian.org/debian buster main\n",
        "deb [arch=amd64 signed-by=/usr/share/keyrings/debian-buster-updates.gpg] http://deb.debian.org/debian buster-updates main\n",
        "deb [arch=amd64 signed-by=/usr/share/keyrings/debian-security-buster.gpg] http://deb.debian.org/debian-security buster/updates main\n",
        "EOF\n",
        "\n",
        "# Add keys\n",
        "apt-key adv --keyserver keyserver.ubuntu.com --recv-keys DCC9EFBF77E11517\n",
        "apt-key adv --keyserver keyserver.ubuntu.com --recv-keys 648ACFD622F3D138\n",
        "apt-key adv --keyserver keyserver.ubuntu.com --recv-keys 112695A0E562B32A\n",
        "\n",
        "apt-key export 77E11517 | gpg --dearmour -o /usr/share/keyrings/debian-buster.gpg\n",
        "apt-key export 22F3D138 | gpg --dearmour -o /usr/share/keyrings/debian-buster-updates.gpg\n",
        "apt-key export E562B32A | gpg --dearmour -o /usr/share/keyrings/debian-security-buster.gpg\n",
        "\n",
        "# Prefer debian repo for chromium* packages only\n",
        "# Note the double-blank lines between entries\n",
        "cat > /etc/apt/preferences.d/chromium.pref << 'EOF'\n",
        "Package: *\n",
        "Pin: release a=eoan\n",
        "Pin-Priority: 500\n",
        "\n",
        "\n",
        "Package: *\n",
        "Pin: origin \"deb.debian.org\"\n",
        "Pin-Priority: 300\n",
        "\n",
        "\n",
        "Package: chromium*\n",
        "Pin: origin \"deb.debian.org\"\n",
        "Pin-Priority: 700\n",
        "EOF\n",
        "\n",
        "# Install chromium and chromium-driver\n",
        "apt-get update\n",
        "apt-get install chromium chromium-driver\n",
        "\n",
        "# Install selenium\n",
        "pip install selenium\n"
      ]
    },
    {
      "cell_type": "code",
      "source": [
        "import numpy as np\n",
        "import pandas as pd\n",
        "from pandas import Series, DataFrame"
      ],
      "metadata": {
        "id": "21d9EZRuXeM0"
      },
      "execution_count": 3,
      "outputs": []
    },
    {
      "cell_type": "markdown",
      "source": [
        "# Data Collection 💻\n",
        "### **Choosing the data**\n",
        "I searched for data relating to `ai`, `robots`, `feelings`, `sentiment`, `wellbeing`, and `technology`. I wanted a dataset that was on theme and allowed me to explore my research interests in a new way.\n",
        "\n",
        "After exploring all the resources provided in the instructions—thank you!—I a lot of interesting research. Yet, despite the cool information, often the material I was interested in either required access requests, or were a lot to wrangle in the long run.\n",
        "\n",
        "This dataset, `🤖 Students' Perceptions of AI in Education`, was chosen as it was 1) straightforward 2) directly related and 3) because of the stories that can be told with it.\n",
        "\n",
        "The data is also very numerical for a sentiment analysis, so I look forward to applying quantitative knowledge from 603 to this assignment in Python.\n",
        "\n",
        "I had considered doing a web scrape, but for the sake of *completing* this project, I had to dial things back. Stay tuned for future work!\n",
        "\n",
        "\n",
        "### **Where did you get the data ?**\n",
        "I retrieved this data from [Kaggle](https://www.kaggle.com/datasets/gianinamariapetrascu/survey-on-students-perceptions-of-ai-in-education/).\n",
        "\n",
        "It is available to download publicly.\n",
        "\n",
        "### **Why this topic ?**\n",
        "My interest in Technoliteracy stems from my own experiences as both a technology learner and as an educator. I was truly blessed to have learned about HTML at about 11 years old, and am honored that I have had the opportunity to spark student interest over the past 7 or so years. I have seen how even the surface level concepts of computational thinking can really change a student's mindset on life. Expanding into the Social Sciences, technoliteracy can determine so much of one's life. Algorithms have been used to determine the social welfare from screening \"scammers\" to policing, phishing scams often target those in need or with lower than societally expected technoliteracy.\n",
        "\n",
        "I am exploring Technoliteracy because I know technology education is powerful. In this project, I want to see what the current learners think.\n"
      ],
      "metadata": {
        "id": "c-GF5eCOouxD"
      }
    },
    {
      "cell_type": "code",
      "source": [
        "import requests\n",
        "url = \"https://www.kaggle.com/datasets/gianinamariapetrascu/survey-on-students-perceptions-of-ai-in-education/\"\n",
        "\n",
        "data = requests.get(url)\n",
        "data.status_code"
      ],
      "metadata": {
        "id": "1wqKB03ehCxS",
        "colab": {
          "base_uri": "https://localhost:8080/",
          "height": 0
        },
        "outputId": "c9ac1f17-516a-4ece-b123-2ab326336ab1"
      },
      "execution_count": 4,
      "outputs": [
        {
          "output_type": "execute_result",
          "data": {
            "text/plain": [
              "200"
            ]
          },
          "metadata": {},
          "execution_count": 4
        }
      ]
    },
    {
      "cell_type": "code",
      "source": [
        "#-- You can also selenium it ----#\n",
        "from selenium import webdriver\n",
        "import webbrowser\n",
        "\n",
        "webbrowser.open(url, new=0, autoraise=True)"
      ],
      "metadata": {
        "id": "d6Iv8S6UJkgt",
        "colab": {
          "base_uri": "https://localhost:8080/",
          "height": 0
        },
        "outputId": "c40ea9f9-a922-42d1-96dc-01f2cafd7621"
      },
      "execution_count": 5,
      "outputs": [
        {
          "output_type": "execute_result",
          "data": {
            "text/plain": [
              "False"
            ]
          },
          "metadata": {},
          "execution_count": 5
        }
      ]
    },
    {
      "cell_type": "markdown",
      "source": [
        "# Wrangling 🤠\n",
        "\n",
        "Howdy! Here is how I wrangled my data all together.\n",
        "\n",
        "First, let's read in our data."
      ],
      "metadata": {
        "id": "-8PlEIC1ou3G"
      }
    },
    {
      "cell_type": "code",
      "source": [
        "pd.read_csv(\"/content/Survey_AI.csv\")"
      ],
      "metadata": {
        "colab": {
          "base_uri": "https://localhost:8080/",
          "height": 530
        },
        "id": "njpx8NvzzjMi",
        "outputId": "2b9801a1-9ac6-4d80-c947-55ce0b99afff"
      },
      "execution_count": 6,
      "outputs": [
        {
          "output_type": "execute_result",
          "data": {
            "text/plain": [
              "    ID  Q1.AI_knowledge                                      Q2.AI_sources  \\\n",
              "0    1                8  Internet;Books/Scientific papers (physical/onl...   \n",
              "1    2                7                              Internet;Social media   \n",
              "2    3                5  Internet;Books/Scientific papers (physical/onl...   \n",
              "3    4                5                              Internet;Social media   \n",
              "4    5                4                                           Internet   \n",
              "..  ..              ...                                                ...   \n",
              "86  87                8                                           Internet   \n",
              "87  88                6                                       Social media   \n",
              "88  89                9   Books/Scientific papers (physical/online format)   \n",
              "89  90                2                     I don't inform myself about AI   \n",
              "90  91                2                    Discussions with family/friends   \n",
              "\n",
              "    Q2#1.Internet  Q2#2.Books/Papers  Q2#3.Social_media  Q2#4.Discussions  \\\n",
              "0               1                  1                  0                 0   \n",
              "1               1                  0                  1                 0   \n",
              "2               1                  1                  0                 0   \n",
              "3               1                  0                  1                 0   \n",
              "4               1                  0                  0                 0   \n",
              "..            ...                ...                ...               ...   \n",
              "86              1                  0                  0                 0   \n",
              "87              0                  0                  1                 0   \n",
              "88              0                  1                  0                 0   \n",
              "89              0                  0                  0                 0   \n",
              "90              0                  0                  0                 1   \n",
              "\n",
              "    Q2#5.NotInformed  Q3#1.AI_dehumanization  Q3#2.Job_replacement  ...  \\\n",
              "0                  0                       1                     2  ...   \n",
              "1                  0                       2                     3  ...   \n",
              "2                  0                       2                     1  ...   \n",
              "3                  0                       4                     4  ...   \n",
              "4                  0                       1                     2  ...   \n",
              "..               ...                     ...                   ...  ...   \n",
              "86                 0                       1                     1  ...   \n",
              "87                 0                       2                     2  ...   \n",
              "88                 0                       1                     1  ...   \n",
              "89                 1                       2                     4  ...   \n",
              "90                 0                       2                     4  ...   \n",
              "\n",
              "    Q7.Utility_grade  Q8.Advantage_teaching  Q9.Advantage_learning  \\\n",
              "0                  9                      3                      1   \n",
              "1                  6                      2                      2   \n",
              "2                  6                      3                      3   \n",
              "3                  9                      1                      2   \n",
              "4                  8                      3                      2   \n",
              "..               ...                    ...                    ...   \n",
              "86                 7                      2                      2   \n",
              "87                 7                      3                      1   \n",
              "88                10                      1                      2   \n",
              "89                 2                      2                      3   \n",
              "90                 2                      3                      3   \n",
              "\n",
              "    Q10.Advantage_evaluation   Q11.Disadvantage_educational_process  \\\n",
              "0                           2                                     3   \n",
              "1                           1                                     2   \n",
              "2                           3                                     4   \n",
              "3                           2                                     3   \n",
              "4                           3                                     4   \n",
              "..                        ...                                   ...   \n",
              "86                          1                                     1   \n",
              "87                          3                                     2   \n",
              "88                          3                                     1   \n",
              "89                          1                                     2   \n",
              "90                          3                                     4   \n",
              "\n",
              "    Q12.Gender  Q13.Year_of_study Q14.Major  Q15.Passed_exams  Q16.GPA  \n",
              "0            1                  2         2                 1      9.2  \n",
              "1            2                  2         2                 1      7.7  \n",
              "2            2                  2         2                 0      7.2  \n",
              "3            1                  2         2                 1      8.2  \n",
              "4            1                  2         2                 1      7.7  \n",
              "..         ...                ...       ...               ...      ...  \n",
              "86           2                  1         1                 1      7.2  \n",
              "87           2                  1         3                 1      8.7  \n",
              "88           2                  1         1                 0      6.2  \n",
              "89           2                  1         1                 1      8.7  \n",
              "90           2                  1         3                 1      5.2  \n",
              "\n",
              "[91 rows x 35 columns]"
            ],
            "text/html": [
              "\n",
              "  <div id=\"df-cc6fa085-0cb0-4969-b2bb-352b9f420531\" class=\"colab-df-container\">\n",
              "    <div>\n",
              "<style scoped>\n",
              "    .dataframe tbody tr th:only-of-type {\n",
              "        vertical-align: middle;\n",
              "    }\n",
              "\n",
              "    .dataframe tbody tr th {\n",
              "        vertical-align: top;\n",
              "    }\n",
              "\n",
              "    .dataframe thead th {\n",
              "        text-align: right;\n",
              "    }\n",
              "</style>\n",
              "<table border=\"1\" class=\"dataframe\">\n",
              "  <thead>\n",
              "    <tr style=\"text-align: right;\">\n",
              "      <th></th>\n",
              "      <th>ID</th>\n",
              "      <th>Q1.AI_knowledge</th>\n",
              "      <th>Q2.AI_sources</th>\n",
              "      <th>Q2#1.Internet</th>\n",
              "      <th>Q2#2.Books/Papers</th>\n",
              "      <th>Q2#3.Social_media</th>\n",
              "      <th>Q2#4.Discussions</th>\n",
              "      <th>Q2#5.NotInformed</th>\n",
              "      <th>Q3#1.AI_dehumanization</th>\n",
              "      <th>Q3#2.Job_replacement</th>\n",
              "      <th>...</th>\n",
              "      <th>Q7.Utility_grade</th>\n",
              "      <th>Q8.Advantage_teaching</th>\n",
              "      <th>Q9.Advantage_learning</th>\n",
              "      <th>Q10.Advantage_evaluation</th>\n",
              "      <th>Q11.Disadvantage_educational_process</th>\n",
              "      <th>Q12.Gender</th>\n",
              "      <th>Q13.Year_of_study</th>\n",
              "      <th>Q14.Major</th>\n",
              "      <th>Q15.Passed_exams</th>\n",
              "      <th>Q16.GPA</th>\n",
              "    </tr>\n",
              "  </thead>\n",
              "  <tbody>\n",
              "    <tr>\n",
              "      <th>0</th>\n",
              "      <td>1</td>\n",
              "      <td>8</td>\n",
              "      <td>Internet;Books/Scientific papers (physical/onl...</td>\n",
              "      <td>1</td>\n",
              "      <td>1</td>\n",
              "      <td>0</td>\n",
              "      <td>0</td>\n",
              "      <td>0</td>\n",
              "      <td>1</td>\n",
              "      <td>2</td>\n",
              "      <td>...</td>\n",
              "      <td>9</td>\n",
              "      <td>3</td>\n",
              "      <td>1</td>\n",
              "      <td>2</td>\n",
              "      <td>3</td>\n",
              "      <td>1</td>\n",
              "      <td>2</td>\n",
              "      <td>2</td>\n",
              "      <td>1</td>\n",
              "      <td>9.2</td>\n",
              "    </tr>\n",
              "    <tr>\n",
              "      <th>1</th>\n",
              "      <td>2</td>\n",
              "      <td>7</td>\n",
              "      <td>Internet;Social media</td>\n",
              "      <td>1</td>\n",
              "      <td>0</td>\n",
              "      <td>1</td>\n",
              "      <td>0</td>\n",
              "      <td>0</td>\n",
              "      <td>2</td>\n",
              "      <td>3</td>\n",
              "      <td>...</td>\n",
              "      <td>6</td>\n",
              "      <td>2</td>\n",
              "      <td>2</td>\n",
              "      <td>1</td>\n",
              "      <td>2</td>\n",
              "      <td>2</td>\n",
              "      <td>2</td>\n",
              "      <td>2</td>\n",
              "      <td>1</td>\n",
              "      <td>7.7</td>\n",
              "    </tr>\n",
              "    <tr>\n",
              "      <th>2</th>\n",
              "      <td>3</td>\n",
              "      <td>5</td>\n",
              "      <td>Internet;Books/Scientific papers (physical/onl...</td>\n",
              "      <td>1</td>\n",
              "      <td>1</td>\n",
              "      <td>0</td>\n",
              "      <td>0</td>\n",
              "      <td>0</td>\n",
              "      <td>2</td>\n",
              "      <td>1</td>\n",
              "      <td>...</td>\n",
              "      <td>6</td>\n",
              "      <td>3</td>\n",
              "      <td>3</td>\n",
              "      <td>3</td>\n",
              "      <td>4</td>\n",
              "      <td>2</td>\n",
              "      <td>2</td>\n",
              "      <td>2</td>\n",
              "      <td>0</td>\n",
              "      <td>7.2</td>\n",
              "    </tr>\n",
              "    <tr>\n",
              "      <th>3</th>\n",
              "      <td>4</td>\n",
              "      <td>5</td>\n",
              "      <td>Internet;Social media</td>\n",
              "      <td>1</td>\n",
              "      <td>0</td>\n",
              "      <td>1</td>\n",
              "      <td>0</td>\n",
              "      <td>0</td>\n",
              "      <td>4</td>\n",
              "      <td>4</td>\n",
              "      <td>...</td>\n",
              "      <td>9</td>\n",
              "      <td>1</td>\n",
              "      <td>2</td>\n",
              "      <td>2</td>\n",
              "      <td>3</td>\n",
              "      <td>1</td>\n",
              "      <td>2</td>\n",
              "      <td>2</td>\n",
              "      <td>1</td>\n",
              "      <td>8.2</td>\n",
              "    </tr>\n",
              "    <tr>\n",
              "      <th>4</th>\n",
              "      <td>5</td>\n",
              "      <td>4</td>\n",
              "      <td>Internet</td>\n",
              "      <td>1</td>\n",
              "      <td>0</td>\n",
              "      <td>0</td>\n",
              "      <td>0</td>\n",
              "      <td>0</td>\n",
              "      <td>1</td>\n",
              "      <td>2</td>\n",
              "      <td>...</td>\n",
              "      <td>8</td>\n",
              "      <td>3</td>\n",
              "      <td>2</td>\n",
              "      <td>3</td>\n",
              "      <td>4</td>\n",
              "      <td>1</td>\n",
              "      <td>2</td>\n",
              "      <td>2</td>\n",
              "      <td>1</td>\n",
              "      <td>7.7</td>\n",
              "    </tr>\n",
              "    <tr>\n",
              "      <th>...</th>\n",
              "      <td>...</td>\n",
              "      <td>...</td>\n",
              "      <td>...</td>\n",
              "      <td>...</td>\n",
              "      <td>...</td>\n",
              "      <td>...</td>\n",
              "      <td>...</td>\n",
              "      <td>...</td>\n",
              "      <td>...</td>\n",
              "      <td>...</td>\n",
              "      <td>...</td>\n",
              "      <td>...</td>\n",
              "      <td>...</td>\n",
              "      <td>...</td>\n",
              "      <td>...</td>\n",
              "      <td>...</td>\n",
              "      <td>...</td>\n",
              "      <td>...</td>\n",
              "      <td>...</td>\n",
              "      <td>...</td>\n",
              "      <td>...</td>\n",
              "    </tr>\n",
              "    <tr>\n",
              "      <th>86</th>\n",
              "      <td>87</td>\n",
              "      <td>8</td>\n",
              "      <td>Internet</td>\n",
              "      <td>1</td>\n",
              "      <td>0</td>\n",
              "      <td>0</td>\n",
              "      <td>0</td>\n",
              "      <td>0</td>\n",
              "      <td>1</td>\n",
              "      <td>1</td>\n",
              "      <td>...</td>\n",
              "      <td>7</td>\n",
              "      <td>2</td>\n",
              "      <td>2</td>\n",
              "      <td>1</td>\n",
              "      <td>1</td>\n",
              "      <td>2</td>\n",
              "      <td>1</td>\n",
              "      <td>1</td>\n",
              "      <td>1</td>\n",
              "      <td>7.2</td>\n",
              "    </tr>\n",
              "    <tr>\n",
              "      <th>87</th>\n",
              "      <td>88</td>\n",
              "      <td>6</td>\n",
              "      <td>Social media</td>\n",
              "      <td>0</td>\n",
              "      <td>0</td>\n",
              "      <td>1</td>\n",
              "      <td>0</td>\n",
              "      <td>0</td>\n",
              "      <td>2</td>\n",
              "      <td>2</td>\n",
              "      <td>...</td>\n",
              "      <td>7</td>\n",
              "      <td>3</td>\n",
              "      <td>1</td>\n",
              "      <td>3</td>\n",
              "      <td>2</td>\n",
              "      <td>2</td>\n",
              "      <td>1</td>\n",
              "      <td>3</td>\n",
              "      <td>1</td>\n",
              "      <td>8.7</td>\n",
              "    </tr>\n",
              "    <tr>\n",
              "      <th>88</th>\n",
              "      <td>89</td>\n",
              "      <td>9</td>\n",
              "      <td>Books/Scientific papers (physical/online format)</td>\n",
              "      <td>0</td>\n",
              "      <td>1</td>\n",
              "      <td>0</td>\n",
              "      <td>0</td>\n",
              "      <td>0</td>\n",
              "      <td>1</td>\n",
              "      <td>1</td>\n",
              "      <td>...</td>\n",
              "      <td>10</td>\n",
              "      <td>1</td>\n",
              "      <td>2</td>\n",
              "      <td>3</td>\n",
              "      <td>1</td>\n",
              "      <td>2</td>\n",
              "      <td>1</td>\n",
              "      <td>1</td>\n",
              "      <td>0</td>\n",
              "      <td>6.2</td>\n",
              "    </tr>\n",
              "    <tr>\n",
              "      <th>89</th>\n",
              "      <td>90</td>\n",
              "      <td>2</td>\n",
              "      <td>I don't inform myself about AI</td>\n",
              "      <td>0</td>\n",
              "      <td>0</td>\n",
              "      <td>0</td>\n",
              "      <td>0</td>\n",
              "      <td>1</td>\n",
              "      <td>2</td>\n",
              "      <td>4</td>\n",
              "      <td>...</td>\n",
              "      <td>2</td>\n",
              "      <td>2</td>\n",
              "      <td>3</td>\n",
              "      <td>1</td>\n",
              "      <td>2</td>\n",
              "      <td>2</td>\n",
              "      <td>1</td>\n",
              "      <td>1</td>\n",
              "      <td>1</td>\n",
              "      <td>8.7</td>\n",
              "    </tr>\n",
              "    <tr>\n",
              "      <th>90</th>\n",
              "      <td>91</td>\n",
              "      <td>2</td>\n",
              "      <td>Discussions with family/friends</td>\n",
              "      <td>0</td>\n",
              "      <td>0</td>\n",
              "      <td>0</td>\n",
              "      <td>1</td>\n",
              "      <td>0</td>\n",
              "      <td>2</td>\n",
              "      <td>4</td>\n",
              "      <td>...</td>\n",
              "      <td>2</td>\n",
              "      <td>3</td>\n",
              "      <td>3</td>\n",
              "      <td>3</td>\n",
              "      <td>4</td>\n",
              "      <td>2</td>\n",
              "      <td>1</td>\n",
              "      <td>3</td>\n",
              "      <td>1</td>\n",
              "      <td>5.2</td>\n",
              "    </tr>\n",
              "  </tbody>\n",
              "</table>\n",
              "<p>91 rows × 35 columns</p>\n",
              "</div>\n",
              "    <div class=\"colab-df-buttons\">\n",
              "\n",
              "  <div class=\"colab-df-container\">\n",
              "    <button class=\"colab-df-convert\" onclick=\"convertToInteractive('df-cc6fa085-0cb0-4969-b2bb-352b9f420531')\"\n",
              "            title=\"Convert this dataframe to an interactive table.\"\n",
              "            style=\"display:none;\">\n",
              "\n",
              "  <svg xmlns=\"http://www.w3.org/2000/svg\" height=\"24px\" viewBox=\"0 -960 960 960\">\n",
              "    <path d=\"M120-120v-720h720v720H120Zm60-500h600v-160H180v160Zm220 220h160v-160H400v160Zm0 220h160v-160H400v160ZM180-400h160v-160H180v160Zm440 0h160v-160H620v160ZM180-180h160v-160H180v160Zm440 0h160v-160H620v160Z\"/>\n",
              "  </svg>\n",
              "    </button>\n",
              "\n",
              "  <style>\n",
              "    .colab-df-container {\n",
              "      display:flex;\n",
              "      gap: 12px;\n",
              "    }\n",
              "\n",
              "    .colab-df-convert {\n",
              "      background-color: #E8F0FE;\n",
              "      border: none;\n",
              "      border-radius: 50%;\n",
              "      cursor: pointer;\n",
              "      display: none;\n",
              "      fill: #1967D2;\n",
              "      height: 32px;\n",
              "      padding: 0 0 0 0;\n",
              "      width: 32px;\n",
              "    }\n",
              "\n",
              "    .colab-df-convert:hover {\n",
              "      background-color: #E2EBFA;\n",
              "      box-shadow: 0px 1px 2px rgba(60, 64, 67, 0.3), 0px 1px 3px 1px rgba(60, 64, 67, 0.15);\n",
              "      fill: #174EA6;\n",
              "    }\n",
              "\n",
              "    .colab-df-buttons div {\n",
              "      margin-bottom: 4px;\n",
              "    }\n",
              "\n",
              "    [theme=dark] .colab-df-convert {\n",
              "      background-color: #3B4455;\n",
              "      fill: #D2E3FC;\n",
              "    }\n",
              "\n",
              "    [theme=dark] .colab-df-convert:hover {\n",
              "      background-color: #434B5C;\n",
              "      box-shadow: 0px 1px 3px 1px rgba(0, 0, 0, 0.15);\n",
              "      filter: drop-shadow(0px 1px 2px rgba(0, 0, 0, 0.3));\n",
              "      fill: #FFFFFF;\n",
              "    }\n",
              "  </style>\n",
              "\n",
              "    <script>\n",
              "      const buttonEl =\n",
              "        document.querySelector('#df-cc6fa085-0cb0-4969-b2bb-352b9f420531 button.colab-df-convert');\n",
              "      buttonEl.style.display =\n",
              "        google.colab.kernel.accessAllowed ? 'block' : 'none';\n",
              "\n",
              "      async function convertToInteractive(key) {\n",
              "        const element = document.querySelector('#df-cc6fa085-0cb0-4969-b2bb-352b9f420531');\n",
              "        const dataTable =\n",
              "          await google.colab.kernel.invokeFunction('convertToInteractive',\n",
              "                                                    [key], {});\n",
              "        if (!dataTable) return;\n",
              "\n",
              "        const docLinkHtml = 'Like what you see? Visit the ' +\n",
              "          '<a target=\"_blank\" href=https://colab.research.google.com/notebooks/data_table.ipynb>data table notebook</a>'\n",
              "          + ' to learn more about interactive tables.';\n",
              "        element.innerHTML = '';\n",
              "        dataTable['output_type'] = 'display_data';\n",
              "        await google.colab.output.renderOutput(dataTable, element);\n",
              "        const docLink = document.createElement('div');\n",
              "        docLink.innerHTML = docLinkHtml;\n",
              "        element.appendChild(docLink);\n",
              "      }\n",
              "    </script>\n",
              "  </div>\n",
              "\n",
              "\n",
              "<div id=\"df-5ea1a21c-602e-4c99-af1a-691ceb9a78ba\">\n",
              "  <button class=\"colab-df-quickchart\" onclick=\"quickchart('df-5ea1a21c-602e-4c99-af1a-691ceb9a78ba')\"\n",
              "            title=\"Suggest charts\"\n",
              "            style=\"display:none;\">\n",
              "\n",
              "<svg xmlns=\"http://www.w3.org/2000/svg\" height=\"24px\"viewBox=\"0 0 24 24\"\n",
              "     width=\"24px\">\n",
              "    <g>\n",
              "        <path d=\"M19 3H5c-1.1 0-2 .9-2 2v14c0 1.1.9 2 2 2h14c1.1 0 2-.9 2-2V5c0-1.1-.9-2-2-2zM9 17H7v-7h2v7zm4 0h-2V7h2v10zm4 0h-2v-4h2v4z\"/>\n",
              "    </g>\n",
              "</svg>\n",
              "  </button>\n",
              "\n",
              "<style>\n",
              "  .colab-df-quickchart {\n",
              "      --bg-color: #E8F0FE;\n",
              "      --fill-color: #1967D2;\n",
              "      --hover-bg-color: #E2EBFA;\n",
              "      --hover-fill-color: #174EA6;\n",
              "      --disabled-fill-color: #AAA;\n",
              "      --disabled-bg-color: #DDD;\n",
              "  }\n",
              "\n",
              "  [theme=dark] .colab-df-quickchart {\n",
              "      --bg-color: #3B4455;\n",
              "      --fill-color: #D2E3FC;\n",
              "      --hover-bg-color: #434B5C;\n",
              "      --hover-fill-color: #FFFFFF;\n",
              "      --disabled-bg-color: #3B4455;\n",
              "      --disabled-fill-color: #666;\n",
              "  }\n",
              "\n",
              "  .colab-df-quickchart {\n",
              "    background-color: var(--bg-color);\n",
              "    border: none;\n",
              "    border-radius: 50%;\n",
              "    cursor: pointer;\n",
              "    display: none;\n",
              "    fill: var(--fill-color);\n",
              "    height: 32px;\n",
              "    padding: 0;\n",
              "    width: 32px;\n",
              "  }\n",
              "\n",
              "  .colab-df-quickchart:hover {\n",
              "    background-color: var(--hover-bg-color);\n",
              "    box-shadow: 0 1px 2px rgba(60, 64, 67, 0.3), 0 1px 3px 1px rgba(60, 64, 67, 0.15);\n",
              "    fill: var(--button-hover-fill-color);\n",
              "  }\n",
              "\n",
              "  .colab-df-quickchart-complete:disabled,\n",
              "  .colab-df-quickchart-complete:disabled:hover {\n",
              "    background-color: var(--disabled-bg-color);\n",
              "    fill: var(--disabled-fill-color);\n",
              "    box-shadow: none;\n",
              "  }\n",
              "\n",
              "  .colab-df-spinner {\n",
              "    border: 2px solid var(--fill-color);\n",
              "    border-color: transparent;\n",
              "    border-bottom-color: var(--fill-color);\n",
              "    animation:\n",
              "      spin 1s steps(1) infinite;\n",
              "  }\n",
              "\n",
              "  @keyframes spin {\n",
              "    0% {\n",
              "      border-color: transparent;\n",
              "      border-bottom-color: var(--fill-color);\n",
              "      border-left-color: var(--fill-color);\n",
              "    }\n",
              "    20% {\n",
              "      border-color: transparent;\n",
              "      border-left-color: var(--fill-color);\n",
              "      border-top-color: var(--fill-color);\n",
              "    }\n",
              "    30% {\n",
              "      border-color: transparent;\n",
              "      border-left-color: var(--fill-color);\n",
              "      border-top-color: var(--fill-color);\n",
              "      border-right-color: var(--fill-color);\n",
              "    }\n",
              "    40% {\n",
              "      border-color: transparent;\n",
              "      border-right-color: var(--fill-color);\n",
              "      border-top-color: var(--fill-color);\n",
              "    }\n",
              "    60% {\n",
              "      border-color: transparent;\n",
              "      border-right-color: var(--fill-color);\n",
              "    }\n",
              "    80% {\n",
              "      border-color: transparent;\n",
              "      border-right-color: var(--fill-color);\n",
              "      border-bottom-color: var(--fill-color);\n",
              "    }\n",
              "    90% {\n",
              "      border-color: transparent;\n",
              "      border-bottom-color: var(--fill-color);\n",
              "    }\n",
              "  }\n",
              "</style>\n",
              "\n",
              "  <script>\n",
              "    async function quickchart(key) {\n",
              "      const quickchartButtonEl =\n",
              "        document.querySelector('#' + key + ' button');\n",
              "      quickchartButtonEl.disabled = true;  // To prevent multiple clicks.\n",
              "      quickchartButtonEl.classList.add('colab-df-spinner');\n",
              "      try {\n",
              "        const charts = await google.colab.kernel.invokeFunction(\n",
              "            'suggestCharts', [key], {});\n",
              "      } catch (error) {\n",
              "        console.error('Error during call to suggestCharts:', error);\n",
              "      }\n",
              "      quickchartButtonEl.classList.remove('colab-df-spinner');\n",
              "      quickchartButtonEl.classList.add('colab-df-quickchart-complete');\n",
              "    }\n",
              "    (() => {\n",
              "      let quickchartButtonEl =\n",
              "        document.querySelector('#df-5ea1a21c-602e-4c99-af1a-691ceb9a78ba button');\n",
              "      quickchartButtonEl.style.display =\n",
              "        google.colab.kernel.accessAllowed ? 'block' : 'none';\n",
              "    })();\n",
              "  </script>\n",
              "</div>\n",
              "    </div>\n",
              "  </div>\n"
            ]
          },
          "metadata": {},
          "execution_count": 6
        }
      ]
    },
    {
      "cell_type": "markdown",
      "source": [
        "### **Data Description**\n",
        "Our survey data is collected in 4 different ways: scalar, text, multiple choice, and binary questions.\n",
        "\n",
        "This I found really cool: Looking at column 3, `Q2.AI_sources` it seems this question was multiple choice with checkboxes, and the data in that column includes all choices participants selected. However, in columns 4 to 8, we see those same options but as true, `1`, or false, `0`.\n",
        "\n",
        "Participants are asked a number of questions including their feelings towards AI from a selection of options, what industries do they feel AI will impact, as well as demographic information about them such as their age, gender, GPA, and major.\n",
        "\n",
        "I think the number of demographic points is interesting—especially reflecting on the feedback I received during the poster session on the 11th—however, I feel that there are only so many individuals of x-gender with x-GPA in x-major who did not pass all of their exams, see the column `Q15.Passed_exams`. I may explore demographic data later, but this does bring up privacy concerns."
      ],
      "metadata": {
        "id": "KbKOX8te0ACT"
      }
    },
    {
      "cell_type": "markdown",
      "source": [
        "### Round 1: What Bubbles up?\n",
        "With my first overview of the data done, there are a few things I found interesting:\n",
        "1.   The breakdown of `Q2`\n",
        "2.   There is section that directly asks students how they feel. I would love to look more are that\n",
        "3. `Q7` through `Q11` Look interesting, and if I can, I would like to look at this section as a regression.\n",
        "\n",
        "The whole entire dataset looks interesting, and I could pull really interesting insights from it. Let's  focus on `Q2` Where students learn about AI, `Q5`How do they feel about AI, and `Q7`, Scalar: how useful do participants think AI will be in education."
      ],
      "metadata": {
        "id": "iQ3VotO1pZRm"
      }
    },
    {
      "cell_type": "markdown",
      "source": [
        "### Round 2: `Q2` Knowledge Sources\n",
        "First, I looked at `Q2` filtering down to only the relevant columns.\n",
        "\n",
        "Next, I added up all of the \"sources\" scores, creating `Total_Sources`.\n",
        "\n",
        "Lastly, I created a dataframe just of the sources. In this, I omitted the `Q2#5.NotInformed` column because my aim was to compare the knowledge sources, so the un-informed population isn't needed for that dataframe.\n",
        "\n",
        "Overall, I created 3 dataframes for `Q2`: one solely made up of `Q2` data, one I can use to compare the number of informed vs uninformed students, and one to compare the most popular sources amongst participants.\n"
      ],
      "metadata": {
        "id": "2YLKcTDw3BVh"
      }
    },
    {
      "cell_type": "code",
      "source": [
        "'''Here we're looking just at Q2 data'''\n",
        "# Each question needed a lot of work so I I slit them intoe seperate chunks\n",
        "\n",
        "#-- Our Data ------#\n",
        "df = pd.read_csv(\"/content/Survey_AI.csv\")\n",
        "#print(df.shape) # 91 rows, 35 columns\n",
        "\n",
        "#-- Q2: Where did you learn about AI ------#\n",
        "df_q2 = df[['Q2.AI_sources','Q2#1.Internet', 'Q2#2.Books/Papers','Q2#3.Social_media','Q2#4.Discussions', 'Q2#5.NotInformed']]\n",
        "#print(df_q2) # check\n",
        "#------------------------------------------#\n",
        "#-- Shows us the total number of sources each particpant used to learn about AI ------#\n",
        "df_q2['Total_Sources'] = df_q2[['Q2#1.Internet', 'Q2#2.Books/Papers','Q2#3.Social_media','Q2#4.Discussions']].sum(axis=1)\n",
        "#print(df_q2) # check\n",
        "#-------------------------------------------------------------------------------------#\n",
        "#-- Total number of Informed vs Uninformed ------#\n",
        "informed_ = 0\n",
        "informed_ = [informed_ +1 for ind,row in df_q2.iterrows() if row['Total_Sources'] >=1]\n",
        "#print(informed_) # Not what I was expecting but I can still work with this\n",
        "informed = len(informed_)\n",
        "#print(informed) # check\n",
        "\n",
        "uninformed_ = 0\n",
        "uninformed_ = [uninformed_ +1 for ind,row in df_q2.iterrows() if row['Q2#5.NotInformed'] >=1]\n",
        "#print(uninformed_) # Okay the same logic is working\n",
        "uninformed = len(uninformed_)\n",
        "#print(uninformed) # check\n",
        "\n",
        "# Creating a dataframe of Informed x Uninformed\n",
        "data_informed_un = [['Informed',informed],['Uninformed',uninformed]]\n",
        "df_q2_informed_un = pd.DataFrame(data_informed_un, columns =['Status','count'])\n",
        "#print(df_q2_informed_un) #BEAUTIFUL\n",
        "#-----------------------------------------------#\n",
        "#-- Creates a df of just the learning sources ------#\n",
        "df_q2_sources = df[['Q2#1.Internet', 'Q2#2.Books/Papers','Q2#3.Social_media','Q2#4.Discussions']]\n",
        "print(df_q2_sources)\n",
        "# Good for bar graphs\n",
        "#------------------------------------------#"
      ],
      "metadata": {
        "colab": {
          "base_uri": "https://localhost:8080/",
          "height": 0
        },
        "id": "hQD7MjqopYyk",
        "outputId": "df9f43e4-c889-4efc-c31d-ba06a7054019"
      },
      "execution_count": 57,
      "outputs": [
        {
          "output_type": "stream",
          "name": "stdout",
          "text": [
            "    Q2#1.Internet  Q2#2.Books/Papers  Q2#3.Social_media  Q2#4.Discussions\n",
            "0               1                  1                  0                 0\n",
            "1               1                  0                  1                 0\n",
            "2               1                  1                  0                 0\n",
            "3               1                  0                  1                 0\n",
            "4               1                  0                  0                 0\n",
            "..            ...                ...                ...               ...\n",
            "86              1                  0                  0                 0\n",
            "87              0                  0                  1                 0\n",
            "88              0                  1                  0                 0\n",
            "89              0                  0                  0                 0\n",
            "90              0                  0                  0                 1\n",
            "\n",
            "[91 rows x 4 columns]\n"
          ]
        },
        {
          "output_type": "stream",
          "name": "stderr",
          "text": [
            "<ipython-input-57-4529474f314d>:13: SettingWithCopyWarning: \n",
            "A value is trying to be set on a copy of a slice from a DataFrame.\n",
            "Try using .loc[row_indexer,col_indexer] = value instead\n",
            "\n",
            "See the caveats in the documentation: https://pandas.pydata.org/pandas-docs/stable/user_guide/indexing.html#returning-a-view-versus-a-copy\n",
            "  df_q2['Total_Sources'] = df_q2[['Q2#1.Internet', 'Q2#2.Books/Papers','Q2#3.Social_media','Q2#4.Discussions']].sum(axis=1)\n"
          ]
        }
      ]
    },
    {
      "cell_type": "markdown",
      "source": [
        "### Round 3: `Q5` Feelings on AI\n",
        "At first, I thought `Q5` would be a straight forward path—manipulate the data so I can create a bar graph. I was very wrong.\n",
        "\n",
        "`Q5` is not text data. The data in this column is all numbers used to represent each option: `1` = Curiosity, `2` = Fear, `3` = Indifference, and `4` = Trust.\n",
        "\n",
        "My original thought was to borrow the logic I used in `Q2`; to create long data for `Q5`. I planned to first create a new data frame just for `Q5`, mostly for my own sanity. Then, I would loop through that column 4 times, one for each option, setting a variable equal to each instance of `1`, `2`, `3`, and `4`. However, with a simple `countplot` all of that logic can be done for me. See more in the *Visualization* section.\n"
      ],
      "metadata": {
        "id": "srExq1A1_Evg"
      }
    },
    {
      "cell_type": "code",
      "source": [
        "'''Q5 data'''\n",
        "\n",
        "#-- Our Data ------#\n",
        "df = pd.read_csv(\"/content/Survey_AI.csv\")\n",
        "#print(df.shape) # 91 rows, 35 columns\n",
        "\n",
        "#-- Q5: When you think about AI do you feel: ------#\n",
        "df_q5 = df[['Q5.Feelings']]\n",
        "#print(df_q5) # check\n",
        "#--------------------------------------------------#\n"
      ],
      "metadata": {
        "id": "dhhhi0unA158"
      },
      "execution_count": 58,
      "outputs": []
    },
    {
      "cell_type": "markdown",
      "source": [
        "### Round 4: `Q7` & `Q14` *Who* finds AI useful ?\n",
        "Initially, I planned to compare `Q7` with the results of questions 8 through 11, however, I found an interesting question I can explore:\n",
        "> Which majors found AI useful in the educational process?\n",
        "\n",
        "First, I will make a dataframe of `Q7` and `Q14`. Similar to `Q5`, the majors are numerical as `1` = Economic Cybernetics, `2` = Statistics and Economic Forecasting, and `3` = Economic Informatics. These can be renamed in the *Visualization* section.\n"
      ],
      "metadata": {
        "id": "zY9BBdHHlpXl"
      }
    },
    {
      "cell_type": "code",
      "source": [
        "''' Comparing majors to opions on AI '''\n",
        "#-- Q7 & Q14 dataframw ------#\n",
        "df_q7_14 = df[['Q7.Utility_grade','Q14.Major']]\n",
        "df_q7_14 = df_q7_14.rename(columns = {'Q7.Utility_grade':'Usefulness ( Scale from 1 - 10 )', 'Q14.Major':'Majors'})\n",
        "print(df_q7_14) # check\n",
        "#------------------------------------------#"
      ],
      "metadata": {
        "colab": {
          "base_uri": "https://localhost:8080/",
          "height": 0
        },
        "id": "VVHvOTFKmetD",
        "outputId": "bc5ea10f-83da-4582-dc9f-d73dacdc045e"
      },
      "execution_count": 69,
      "outputs": [
        {
          "output_type": "stream",
          "name": "stdout",
          "text": [
            "    Usefulness ( Scale from 1 - 10 )  Majors\n",
            "0                                  9       2\n",
            "1                                  6       2\n",
            "2                                  6       2\n",
            "3                                  9       2\n",
            "4                                  8       2\n",
            "..                               ...     ...\n",
            "86                                 7       1\n",
            "87                                 7       3\n",
            "88                                10       1\n",
            "89                                 2       1\n",
            "90                                 2       3\n",
            "\n",
            "[91 rows x 2 columns]\n"
          ]
        }
      ]
    },
    {
      "cell_type": "markdown",
      "source": [
        "# Visualizations 🎨\n",
        "\n",
        "Now, with our wrangling cowboy hats off, it is time to visualize our data."
      ],
      "metadata": {
        "id": "rZCiEJEJovD9"
      }
    },
    {
      "cell_type": "code",
      "source": [
        "import seaborn as sns\n",
        "import matplotlib.pyplot as plt"
      ],
      "metadata": {
        "id": "eqWldQ72ENyD"
      },
      "execution_count": 20,
      "outputs": []
    },
    {
      "cell_type": "markdown",
      "source": [
        "### `Q2` Visualizations\n",
        "\n",
        "This section will have 3 plots answering 3 questions:\n",
        "\n",
        "\n",
        "1.   What is the number of informed vs uninformed participants?\n",
        "2.   What is the number of sources participants use to stay informed?\n",
        "3. What are the top sources participants use?\n",
        "\n"
      ],
      "metadata": {
        "id": "MsKvgXBGIsQ_"
      }
    },
    {
      "cell_type": "markdown",
      "source": [
        "For the first question, I used a barplot. It is an easy way to compare our two metrics `informed` and `uninformed`."
      ],
      "metadata": {
        "id": "zShiqH2G49T_"
      }
    },
    {
      "cell_type": "code",
      "source": [
        "'''1) What is the number of informed vs uninformed participants?'''\n",
        "plt.figure(figsize=(10,5))\n",
        "q2_plot_informed_un = sns.barplot(x='Status', y = 'count', data = df_q2_informed_un).set(title='What is the number of informed vs uninformed participants?')"
      ],
      "metadata": {
        "colab": {
          "base_uri": "https://localhost:8080/",
          "height": 487
        },
        "id": "V50Jtk3DRGQc",
        "outputId": "f701105f-9f06-4910-a348-f18683b05264"
      },
      "execution_count": 82,
      "outputs": [
        {
          "output_type": "display_data",
          "data": {
            "text/plain": [
              "<Figure size 1000x500 with 1 Axes>"
            ],
            "image/png": "[encoded data removed]"
          },
          "metadata": {}
        }
      ]
    },
    {
      "cell_type": "markdown",
      "source": [
        "The second question was a fun one. Though I could have done another `barplot` I wanted to explore using distribution."
      ],
      "metadata": {
        "id": "bYAdZ0WH8nY3"
      }
    },
    {
      "cell_type": "code",
      "source": [
        "'''2) What is the number of sources participants use to stay informed?'''\n",
        "q2_plot_num_sources = sns.distplot(df_q2['Total_Sources'], kde = True)\n",
        "\n",
        "#q2_plot_num_sources = sns.histplot(df_q2['Total_Sources']) # First look at the data\n",
        "# OF NOTE:\n",
        "#<ipython-input-45-eb71a4353f66>:2: UserWarning:\n",
        "#\n",
        "#`distplot` is a deprecated function and will be removed in seaborn v0.14.0.\n",
        "#\n",
        "#Please adapt your code to use either `displot` (a figure-level function with\n",
        "#similar flexibility) or `histplot` (an axes-level function for histograms).\n",
        "#\n",
        "#For a guide to updating your code to use the new functions, please see\n",
        "#https://gist.github.com/mwaskom/de44147ed2974457ad6372750bbe5751\n",
        "#\n",
        "#  q2_plot_num_sources = sns.distplot(df_q2['Total_Sources'])"
      ],
      "metadata": {
        "id": "qDz11fFcZrY1"
      },
      "execution_count": null,
      "outputs": []
    },
    {
      "cell_type": "markdown",
      "source": [
        "Lasty, for the third question, I went back to barplots."
      ],
      "metadata": {
        "id": "5UcIFzgy-zGb"
      }
    },
    {
      "cell_type": "code",
      "source": [
        "'''3) What are the top sources participants use?'''\n",
        "q2_sources_col_labels =['Internet', 'Books / Papers', 'Scoial Media', 'Discussions']\n",
        "\n",
        "plt.figure(figsize=(10,5))\n",
        "q2_plot_sources = sns.barplot(df_q2_sources)\n",
        "q2_plot_sources.set_xticklabels(q2_sources_col_labels)"
      ],
      "metadata": {
        "id": "Hqi9jTAkat34"
      },
      "execution_count": null,
      "outputs": []
    },
    {
      "cell_type": "markdown",
      "source": [
        "### `Q5` Visualizations\n",
        "\n",
        "This section will have just 1 plot visualizing the feelings participants had towards AI."
      ],
      "metadata": {
        "id": "-uxteiKFM3oU"
      }
    },
    {
      "cell_type": "markdown",
      "source": [
        "If you remember back in the wrangling section, I mentioned `countplot` doing the logic for me. Here, each instance of `1`,`2`,`3`, and `4` is counted. Then, I renamed each x-value after it's resepective term."
      ],
      "metadata": {
        "id": "CkIRKgt1_MV9"
      }
    },
    {
      "cell_type": "code",
      "source": [
        "q5_col_labels =['Curiosity', 'Fear', 'Indifference', 'Trust']\n",
        "\n",
        "plt.figure(figsize=(10,5))\n",
        "q5_plot = sns.countplot(x='Q5.Feelings', data = df_q5)\n",
        "q5_plot.set_xticklabels(q5_col_labels)"
      ],
      "metadata": {
        "id": "HKDwdyA6JN0T"
      },
      "execution_count": null,
      "outputs": []
    },
    {
      "cell_type": "markdown",
      "source": [
        "### `Q7` & `Q14` Visualizations\n",
        "\n",
        "This section will also have just 1 plot visualizing the relationship between participant major and perceived usefulness of AI in the educational process."
      ],
      "metadata": {
        "id": "tLvouG4FnbW1"
      }
    },
    {
      "cell_type": "markdown",
      "source": [
        "Boxplots became a new favoite this semster. They can show a lot of information is a condensed format that is easy to interpret in a few glances."
      ],
      "metadata": {
        "id": "g4KNix5A_pBQ"
      }
    },
    {
      "cell_type": "code",
      "source": [
        "q7_14_col_labels =['Economic Cybernetic', 'Statistics and Economic Forecasting', 'Economic Informatics']\n",
        "plt.figure(figsize=(10,5))\n",
        "q7_14_plot = sns.boxplot(x='Majors', y = 'Usefulness ( Scale from 1 - 10 )', data = df_q7_14)\n",
        "q7_14_plot.set_xticklabels(q7_14_col_labels)\n",
        "q7_14_plot.set(ylim=(0,11))"
      ],
      "metadata": {
        "colab": {
          "base_uri": "https://localhost:8080/",
          "height": 482
        },
        "id": "JB-aKiS5ndyA",
        "outputId": "7951bce6-10f5-40d4-bd68-04f428d6956c"
      },
      "execution_count": 78,
      "outputs": [
        {
          "output_type": "execute_result",
          "data": {
            "text/plain": [
              "[(0.0, 11.0)]"
            ]
          },
          "metadata": {},
          "execution_count": 78
        },
        {
          "output_type": "display_data",
          "data": {
            "text/plain": [
              "<Figure size 1000x500 with 1 Axes>"
            ],
            "image/png": "[encoded data removed]"
          },
          "metadata": {}
        }
      ]
    },
    {
      "cell_type": "markdown",
      "source": [
        "# Analysis ⚡\n",
        "*What does this all mean?*\n",
        "\n",
        "In a survey of 91 undergraduate students attending the Faculty of Cybernetics, Statistics and Economic Informatics, we can see the following:\n",
        "\n",
        "### `Q2` Analysis\n",
        "Most frequently, participants had just 1 source where they learn about AI, with 2 and 3 sources behind that. Even with the ability to select multiple options, the `Internet` and `Social Media` were the most popular sources while `Discussions` were the least popular source of AI knowledge.\n",
        "\n",
        "### `Q5` Analysis\n",
        "Overall, participants were curious about AI that anything else. `Curiosity` had a significantly higher selection rate, breaking 60, while the other options were below 20. Amongst the other options however, `Fear` was higher than `Trust` but more participants felt `Indifference` towards AI rather than `Trust`.\n",
        "\n",
        "### `Q7` & `Q14` Analysis\n",
        "This was a great example of how, even with the same data, looking at a spreadsheet is wildly different from looking at a visualization. I did not realize how economics focused the majors were until I plotted the data. Of the 3 majors represented in the data, `Statistics and Economic Forecasting` had a range of 3 to 10, while `Economic Cybernetic` and `Economic Informatics` majors ranged from 2 to 10. Despite this fact, `Statistics and Economic Forecasting` and `Economic Informatics` had the same median.\n",
        "\n",
        "### **Re-visiting My Questions**\n",
        "1.   What are students' sentiments towards AI?\n",
        "2.   What are students' sentiments towards AI in education?\n",
        "\n",
        "Students are curious about AI; they are significantly more curious than fearful. Most believe AI will be useful in the educational process, though forecasting majors seem to be more optimistic.\n",
        "\n",
        "These sentiments towards AI may be influenced by their sources of AI education. Most participants ascertained their knowledge through the `Internet` and `Social Media` which have a range of opinions on AI, versus discussion and papers which tend to look at AI with an academic critical lens.\n"
      ],
      "metadata": {
        "id": "WbbTHifvovMp"
      }
    },
    {
      "cell_type": "markdown",
      "source": [
        "# Conclusion 📁\n",
        "AI is a big topic, but its popularity at the moment may also be its downfall. Adoption without education seems improbably—how can someone be onboarded to a tool without knowing it—and yet it is happening across industry with AI. Through looking at sentiments, we can gain a grasp on the true reality of a technology post presentation, reveal, or launch party.\n",
        "\n",
        "I hope my analysis was able to give a peak into the world of Technoliteracy in relation to AI.\n"
      ],
      "metadata": {
        "id": "r71ZAZEYovlC"
      }
    },
    {
      "cell_type": "markdown",
      "source": [
        "# Code Graveyard 👻\n",
        "\n",
        "The Code Graveyard is a holding post for the ghosts of code's past (i.e. all the code that failed or I ultimately couldn't use). This is something I've done across assignments. I think it's not only helpful, but important to look at the failures along the way that got us to our final successes.\n",
        "\n",
        "In my own tech journey, I have had a lot of challenges coding. That is one of the many reasons why technoliteracy means so much to me. Throughout this final project, I looked back at old code, notes from office hours, and remembered *how* to ask questions when I looked things up. In a weird twist, there isn't that much in my final graveyard. I believe that's due to my previous graveyards. In an unexpected moment of reflection during this project, I feel a bit proud of the obsticles overcome in my own technology education. I hope I get to do this more, and make more graveyards.\n",
        "\n",
        "Best wishes,\n",
        "Eli"
      ],
      "metadata": {
        "id": "eA1V_VmLovvz"
      }
    },
    {
      "cell_type": "code",
      "source": [
        "#-- From Q2 Wrangling ------#\n",
        "#for known in Total\n",
        "\n",
        "# Created a 1D, pratically a list that was unplotable\n",
        "#data_informed_un = [[informed,uninformed]]\n",
        "#df_q2_informed_un = pd.DataFrame(data_informed_un, columns =['Informed','Uninformed'])\n",
        "#print(df_q2_informed_un) #BEAUTIFUL\n",
        "#df_q2_informed_un = df_q2_informed_un.rename(index = {0:'count'})\n",
        "#print(df_q2_informed_un)\n",
        "\n",
        "#-- From plotting Q2 ------#\n",
        "#print(df_q2_informed_un)\n",
        "#q2_plot = df_q2_informed_un.transpose\n",
        "#print(q2_plot)\n",
        "\n",
        "#-- Total number of Each Feeling ------#\n",
        "# Reminder: `1` = Curiosity, `2` = Fear, `3` = Indifference, and `4` = Trust.\n",
        "#curiosity_ = 0\n",
        "#curiosity_ = [curiosity_ +1 for ind,row in df_q5.iterrows() if row['Q5.Feelings'] =1]\n",
        "#print(curiosity_) # check\n",
        "#curiosity = len(curiosity_)\n",
        "#print(curiosity) # check\n",
        "\n",
        "#fear_ = 0\n",
        "#fear_ = [fear_ +1 for ind,row in df_q5.iterrows() if row['Q5.Feelings'] =2]\n",
        "#print(fear_)  # check\n",
        "#fear = len(fear_)\n",
        "#print(fear) # check\n",
        "\n",
        "#indifference_ = 0\n",
        "#indifference_ = [indifference_ +1 for ind,row in df_q5.iterrows() if row['Q5.Feelings'] =1]\n",
        "#print(indifference_) # check\n",
        "#indifference = len(indifference_)\n",
        "#print(indifference) # check\n",
        "\n",
        "#trust_ = 0\n",
        "#trust_ = [trust_ +1 for ind,row in df_q5.iterrows() if row['Q5.Feelings'] =2]\n",
        "#print(trust_)  # check\n",
        "#trust = len(trust_)\n",
        "#print(trust) # check\n",
        "\n",
        "\n",
        "# Creating a dataframe of Informed x Uninformed\n",
        "#data_feelings = [[curiosity, fear, indifference, trust]]\n",
        "#df_q5_feelings = pd.DataFrame(data_feelings, columns =['Curiosity', 'Fear', 'Indifference', 'Trust'])\n",
        "#print(df_q5_feelings) #check\n",
        "#-----------------------------------------------#\n"
      ],
      "metadata": {
        "id": "20kdy7frGplL"
      },
      "execution_count": null,
      "outputs": []
    }
  ]
}